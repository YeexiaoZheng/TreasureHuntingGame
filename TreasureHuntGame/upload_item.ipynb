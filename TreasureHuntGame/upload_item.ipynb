{
 "cells": [
  {
   "cell_type": "code",
   "execution_count": 2,
   "source": [
    "import pymongo\r\n",
    "\r\n",
    "myclient = pymongo.MongoClient(host='localhost', port=27017)\r\n",
    "\r\n",
    "db = myclient['treasurehuntgame']\r\n",
    "collection = db['item_type']\r\n",
    "\r\n",
    "def create_item_type(myid, name, prob, info, type, work_efficiency, lucky_value, grade):\r\n",
    "    return {\r\n",
    "        'myid':myid,\r\n",
    "        'name':name,\r\n",
    "        'prob':prob,\r\n",
    "        'info':info,\r\n",
    "        'type':type,\r\n",
    "        'work_efficiency':work_efficiency,\r\n",
    "        'lucky_value':lucky_value,\r\n",
    "        'grade':grade,\r\n",
    "    }\r\n",
    "\r\n",
    "item_type = create_item_type(\r\n",
    "    myid = 0,\r\n",
    "    name = '石头',\r\n",
    "    prob = 1,\r\n",
    "    info = '这是一块普普通通的石头，并没有什么用',\r\n",
    "    type = 'rubbish',\r\n",
    "    work_efficiency = 0,\r\n",
    "    lucky_value = 0,\r\n",
    "    grade = 0,\r\n",
    ")\r\n",
    "\r\n",
    "collection.insert_one(item_type)\r\n",
    "\r\n",
    "item_type"
   ],
   "outputs": [
    {
     "output_type": "execute_result",
     "data": {
      "text/plain": [
       "{'myid': 0,\n",
       " 'name': '石头',\n",
       " 'prob': 1,\n",
       " 'info': '这是一块普普通通的石头，并没有什么用',\n",
       " 'type': 'rubbish',\n",
       " 'work_efficiency': 0,\n",
       " 'lucky_value': 0,\n",
       " 'grade': 0,\n",
       " '_id': ObjectId('615a9459e3aee8e3aca8b0bd')}"
      ]
     },
     "metadata": {},
     "execution_count": 2
    }
   ],
   "metadata": {}
  },
  {
   "cell_type": "code",
   "execution_count": 3,
   "source": [
    "item_type = create_item_type(\r\n",
    "    myid = 1,\r\n",
    "    name = '帽子',\r\n",
    "    prob = 0.2,\r\n",
    "    info = '这是一顶普通的帽子，听说会带来好运哦',\r\n",
    "    type = 'ornament',\r\n",
    "    work_efficiency = 0,\r\n",
    "    lucky_value = 1,\r\n",
    "    grade = 1,\r\n",
    ")\r\n",
    "\r\n",
    "collection.insert_one(item_type)\r\n",
    "\r\n",
    "item_type"
   ],
   "outputs": [
    {
     "output_type": "execute_result",
     "data": {
      "text/plain": [
       "{'myid': 1,\n",
       " 'name': '帽子',\n",
       " 'prob': 0.2,\n",
       " 'info': '这是一顶普通的帽子，听说会带来好运哦',\n",
       " 'type': 'ornament',\n",
       " 'work_efficiency': 0,\n",
       " 'lucky_value': 1,\n",
       " 'grade': 1,\n",
       " '_id': ObjectId('615a9459e3aee8e3aca8b0be')}"
      ]
     },
     "metadata": {},
     "execution_count": 3
    }
   ],
   "metadata": {}
  },
  {
   "cell_type": "code",
   "execution_count": 4,
   "source": [
    "item_type = create_item_type(\r\n",
    "    myid = 2,\r\n",
    "    name = '背包挂件',\r\n",
    "    prob = 0.1,\r\n",
    "    info = '这是一个小小的背包挂件，听说会带来好运哦',\r\n",
    "    type = 'ornament',\r\n",
    "    work_efficiency = 0,\r\n",
    "    lucky_value = 2,\r\n",
    "    grade = 1,\r\n",
    ")\r\n",
    "\r\n",
    "collection.insert_one(item_type)\r\n",
    "\r\n",
    "item_type"
   ],
   "outputs": [
    {
     "output_type": "execute_result",
     "data": {
      "text/plain": [
       "{'myid': 2,\n",
       " 'name': '背包挂件',\n",
       " 'prob': 0.1,\n",
       " 'info': '这是一个小小的背包挂件，听说会带来好运哦',\n",
       " 'type': 'ornament',\n",
       " 'work_efficiency': 0,\n",
       " 'lucky_value': 2,\n",
       " 'grade': 1,\n",
       " '_id': ObjectId('615a9459e3aee8e3aca8b0bf')}"
      ]
     },
     "metadata": {},
     "execution_count": 4
    }
   ],
   "metadata": {}
  },
  {
   "cell_type": "code",
   "execution_count": 5,
   "source": [
    "item_type = create_item_type(\r\n",
    "    myid = 3,\r\n",
    "    name = '手链',\r\n",
    "    prob = 0.07,\r\n",
    "    info = '这是一串精美的手链，听说会带来好运哦',\r\n",
    "    type = 'ornament',\r\n",
    "    work_efficiency = 0,\r\n",
    "    lucky_value = 5,\r\n",
    "    grade = 2,\r\n",
    ")\r\n",
    "\r\n",
    "collection.insert_one(item_type)\r\n",
    "\r\n",
    "item_type"
   ],
   "outputs": [
    {
     "output_type": "execute_result",
     "data": {
      "text/plain": [
       "{'myid': 3,\n",
       " 'name': '手链',\n",
       " 'prob': 0.07,\n",
       " 'info': '这是一串精美的手链，听说会带来好运哦',\n",
       " 'type': 'ornament',\n",
       " 'work_efficiency': 0,\n",
       " 'lucky_value': 5,\n",
       " 'grade': 2,\n",
       " '_id': ObjectId('615a9459e3aee8e3aca8b0c0')}"
      ]
     },
     "metadata": {},
     "execution_count": 5
    }
   ],
   "metadata": {}
  },
  {
   "cell_type": "code",
   "execution_count": 6,
   "source": [
    "item_type = create_item_type(\r\n",
    "    myid = 4,\r\n",
    "    name = '项链',\r\n",
    "    prob = 0.05,\r\n",
    "    info = '这是一串精美的项链，听说会带来好运哦',\r\n",
    "    type = 'ornament',\r\n",
    "    work_efficiency = 0,\r\n",
    "    lucky_value = 8,\r\n",
    "    grade = 2,\r\n",
    ")\r\n",
    "\r\n",
    "collection.insert_one(item_type)\r\n",
    "\r\n",
    "item_type"
   ],
   "outputs": [
    {
     "output_type": "execute_result",
     "data": {
      "text/plain": [
       "{'myid': 4,\n",
       " 'name': '项链',\n",
       " 'prob': 0.05,\n",
       " 'info': '这是一串精美的项链，听说会带来好运哦',\n",
       " 'type': 'ornament',\n",
       " 'work_efficiency': 0,\n",
       " 'lucky_value': 8,\n",
       " 'grade': 2,\n",
       " '_id': ObjectId('615a9459e3aee8e3aca8b0c1')}"
      ]
     },
     "metadata": {},
     "execution_count": 6
    }
   ],
   "metadata": {}
  },
  {
   "cell_type": "code",
   "execution_count": 7,
   "source": [
    "item_type = create_item_type(\r\n",
    "    myid = 5,\r\n",
    "    name = '白玉手镯',\r\n",
    "    prob = 0.02,\r\n",
    "    info = '传说用和田玉打造的手镯，能带来不俗的好运',\r\n",
    "    type = 'ornament',\r\n",
    "    work_efficiency = 0,\r\n",
    "    lucky_value = 11,\r\n",
    "    grade = 3,\r\n",
    ")\r\n",
    "\r\n",
    "collection.insert_one(item_type)\r\n",
    "\r\n",
    "item_type"
   ],
   "outputs": [
    {
     "output_type": "execute_result",
     "data": {
      "text/plain": [
       "{'myid': 5,\n",
       " 'name': '白玉手镯',\n",
       " 'prob': 0.02,\n",
       " 'info': '传说用和田玉打造的手镯，能带来不俗的好运',\n",
       " 'type': 'ornament',\n",
       " 'work_efficiency': 0,\n",
       " 'lucky_value': 11,\n",
       " 'grade': 3,\n",
       " '_id': ObjectId('615a9459e3aee8e3aca8b0c2')}"
      ]
     },
     "metadata": {},
     "execution_count": 7
    }
   ],
   "metadata": {}
  },
  {
   "cell_type": "code",
   "execution_count": 8,
   "source": [
    "item_type = create_item_type(\r\n",
    "    myid = 6,\r\n",
    "    name = '珍珠吊坠',\r\n",
    "    prob = 0.01,\r\n",
    "    info = '传说由深海珍珠母贝打造的吊坠，能带来不俗的好运',\r\n",
    "    type = 'ornament',\r\n",
    "    work_efficiency = 0,\r\n",
    "    lucky_value = 14,\r\n",
    "    grade = 3,\r\n",
    ")\r\n",
    "\r\n",
    "collection.insert_one(item_type)\r\n",
    "\r\n",
    "item_type"
   ],
   "outputs": [
    {
     "output_type": "execute_result",
     "data": {
      "text/plain": [
       "{'myid': 6,\n",
       " 'name': '珍珠吊坠',\n",
       " 'prob': 0.01,\n",
       " 'info': '传说由深海珍珠母贝打造的吊坠，能带来不俗的好运',\n",
       " 'type': 'ornament',\n",
       " 'work_efficiency': 0,\n",
       " 'lucky_value': 14,\n",
       " 'grade': 3,\n",
       " '_id': ObjectId('615a9459e3aee8e3aca8b0c3')}"
      ]
     },
     "metadata": {},
     "execution_count": 8
    }
   ],
   "metadata": {}
  },
  {
   "cell_type": "code",
   "execution_count": 9,
   "source": [
    "item_type = create_item_type(\r\n",
    "    myid = 7,\r\n",
    "    name = '舍利子',\r\n",
    "    prob = 0.007,\r\n",
    "    info = '传说佛门中人坐化后的舍利子，可以让人转运',\r\n",
    "    type = 'ornament',\r\n",
    "    work_efficiency = 0,\r\n",
    "    lucky_value = 20,\r\n",
    "    grade = 4,\r\n",
    ")\r\n",
    "\r\n",
    "collection.insert_one(item_type)\r\n",
    "\r\n",
    "item_type"
   ],
   "outputs": [
    {
     "output_type": "execute_result",
     "data": {
      "text/plain": [
       "{'myid': 7,\n",
       " 'name': '舍利子',\n",
       " 'prob': 0.007,\n",
       " 'info': '传说佛门中人坐化后的舍利子，可以让人转运',\n",
       " 'type': 'ornament',\n",
       " 'work_efficiency': 0,\n",
       " 'lucky_value': 20,\n",
       " 'grade': 4,\n",
       " '_id': ObjectId('615a9459e3aee8e3aca8b0c4')}"
      ]
     },
     "metadata": {},
     "execution_count": 9
    }
   ],
   "metadata": {}
  },
  {
   "cell_type": "code",
   "execution_count": 10,
   "source": [
    "item_type = create_item_type(\r\n",
    "    myid = 8,\r\n",
    "    name = '灵戒',\r\n",
    "    prob = 0.005,\r\n",
    "    info = '一枚散发着灵气的戒指，那似乎是它带给你的运气',\r\n",
    "    type = 'ornament',\r\n",
    "    work_efficiency = 0,\r\n",
    "    lucky_value = 30,\r\n",
    "    grade = 4,\r\n",
    ")\r\n",
    "\r\n",
    "collection.insert_one(item_type)\r\n",
    "\r\n",
    "item_type"
   ],
   "outputs": [
    {
     "output_type": "execute_result",
     "data": {
      "text/plain": [
       "{'myid': 8,\n",
       " 'name': '灵戒',\n",
       " 'prob': 0.005,\n",
       " 'info': '一枚散发着灵气的戒指，那似乎是它带给你的运气',\n",
       " 'type': 'ornament',\n",
       " 'work_efficiency': 0,\n",
       " 'lucky_value': 30,\n",
       " 'grade': 4,\n",
       " '_id': ObjectId('615a9459e3aee8e3aca8b0c5')}"
      ]
     },
     "metadata": {},
     "execution_count": 10
    }
   ],
   "metadata": {}
  },
  {
   "cell_type": "code",
   "execution_count": 11,
   "source": [
    "item_type = create_item_type(\r\n",
    "    myid = 9,\r\n",
    "    name = '寻宝罗盘',\r\n",
    "    prob = 0.0001,\r\n",
    "    info = '古老的罗盘，盘上的指针似乎在指引着什么，让你的寻宝如有神助！',\r\n",
    "    type = 'ornament',\r\n",
    "    work_efficiency = 0,\r\n",
    "    lucky_value = 99,\r\n",
    "    grade = 5,\r\n",
    ")\r\n",
    "\r\n",
    "collection.insert_one(item_type)\r\n",
    "\r\n",
    "item_type"
   ],
   "outputs": [
    {
     "output_type": "execute_result",
     "data": {
      "text/plain": [
       "{'myid': 9,\n",
       " 'name': '寻宝罗盘',\n",
       " 'prob': 0.0001,\n",
       " 'info': '古老的罗盘，盘上的指针似乎在指引着什么，让你的寻宝如有神助！',\n",
       " 'type': 'ornament',\n",
       " 'work_efficiency': 0,\n",
       " 'lucky_value': 99,\n",
       " 'grade': 5,\n",
       " '_id': ObjectId('615a9459e3aee8e3aca8b0c6')}"
      ]
     },
     "metadata": {},
     "execution_count": 11
    }
   ],
   "metadata": {}
  },
  {
   "cell_type": "code",
   "execution_count": 12,
   "source": [
    "item_type = create_item_type(\r\n",
    "    myid = 10,\r\n",
    "    name = '外星战衣',\r\n",
    "    prob = 0.00002,\r\n",
    "    info = '这材质似乎并不是地球物质，这难道是外星遗迹中的战衣？能够极大提高工作效率并且能带来好运',\r\n",
    "    type = 'totipotent',\r\n",
    "    work_efficiency = 99,\r\n",
    "    lucky_value = 99,\r\n",
    "    grade = 5,\r\n",
    ")\r\n",
    "\r\n",
    "collection.insert_one(item_type)\r\n",
    "\r\n",
    "item_type"
   ],
   "outputs": [
    {
     "output_type": "execute_result",
     "data": {
      "text/plain": [
       "{'myid': 10,\n",
       " 'name': '外星战衣',\n",
       " 'prob': 2e-05,\n",
       " 'info': '这材质似乎并不是地球物质，这难道是外星遗迹中的战衣？能够极大提高工作效率并且能带来好运',\n",
       " 'type': 'totipotent',\n",
       " 'work_efficiency': 99,\n",
       " 'lucky_value': 99,\n",
       " 'grade': 5,\n",
       " '_id': ObjectId('615a9ba1e3aee8e3aca8b0c7')}"
      ]
     },
     "metadata": {},
     "execution_count": 12
    }
   ],
   "metadata": {}
  },
  {
   "cell_type": "code",
   "execution_count": 13,
   "source": [
    "item_type = create_item_type(\r\n",
    "    myid = 11,\r\n",
    "    name = '锄头',\r\n",
    "    prob = 0.2,\r\n",
    "    info = '这是一把普通的锄头，但能增加一点工作效率',\r\n",
    "    type = 'tool',\r\n",
    "    work_efficiency = 1,\r\n",
    "    lucky_value = 0,\r\n",
    "    grade = 1,\r\n",
    ")\r\n",
    "\r\n",
    "collection.insert_one(item_type)\r\n",
    "\r\n",
    "item_type"
   ],
   "outputs": [
    {
     "output_type": "execute_result",
     "data": {
      "text/plain": [
       "{'myid': 11,\n",
       " 'name': '锄头',\n",
       " 'prob': 0.2,\n",
       " 'info': '这是一把普通的锄头，但能增加一点工作效率',\n",
       " 'type': 'tool',\n",
       " 'work_efficiency': 1,\n",
       " 'lucky_value': 0,\n",
       " 'grade': 1,\n",
       " '_id': ObjectId('615aa2f1e3aee8e3aca8b0c8')}"
      ]
     },
     "metadata": {},
     "execution_count": 13
    }
   ],
   "metadata": {}
  },
  {
   "cell_type": "code",
   "execution_count": 14,
   "source": [
    "item_type = create_item_type(\r\n",
    "    myid = 12,\r\n",
    "    name = '撬棍',\r\n",
    "    prob = 0.1,\r\n",
    "    info = '撬棍不仅可以防身，还可以增加工作效率',\r\n",
    "    type = 'tool',\r\n",
    "    work_efficiency = 2,\r\n",
    "    lucky_value = 0,\r\n",
    "    grade = 1,\r\n",
    ")\r\n",
    "\r\n",
    "collection.insert_one(item_type)\r\n",
    "\r\n",
    "item_type"
   ],
   "outputs": [
    {
     "output_type": "execute_result",
     "data": {
      "text/plain": [
       "{'myid': 12,\n",
       " 'name': '撬棍',\n",
       " 'prob': 0.1,\n",
       " 'info': '撬棍不仅可以防身，还可以增加工作效率',\n",
       " 'type': 'tool',\n",
       " 'work_efficiency': 2,\n",
       " 'lucky_value': 0,\n",
       " 'grade': 1,\n",
       " '_id': ObjectId('615aa2f1e3aee8e3aca8b0c9')}"
      ]
     },
     "metadata": {},
     "execution_count": 14
    }
   ],
   "metadata": {}
  },
  {
   "cell_type": "code",
   "execution_count": 15,
   "source": [
    "item_type = create_item_type(\r\n",
    "    myid = 13,\r\n",
    "    name = 'iPad',\r\n",
    "    prob = 0.05,\r\n",
    "    info = '听说是一款生产力工具，但实际使用后发现只能小幅提高工作效率',\r\n",
    "    type = 'tool',\r\n",
    "    work_efficiency = 8,\r\n",
    "    lucky_value = 0,\r\n",
    "    grade = 2,\r\n",
    ")\r\n",
    "\r\n",
    "collection.insert_one(item_type)\r\n",
    "\r\n",
    "item_type"
   ],
   "outputs": [
    {
     "output_type": "execute_result",
     "data": {
      "text/plain": [
       "{'myid': 13,\n",
       " 'name': 'iPad',\n",
       " 'prob': 0.05,\n",
       " 'info': '听说是一款生产力工具，但实际使用后发现只能小幅提高工作效率',\n",
       " 'type': 'tool',\n",
       " 'work_efficiency': 8,\n",
       " 'lucky_value': 0,\n",
       " 'grade': 2,\n",
       " '_id': ObjectId('615aa2f1e3aee8e3aca8b0ca')}"
      ]
     },
     "metadata": {},
     "execution_count": 15
    }
   ],
   "metadata": {}
  },
  {
   "cell_type": "code",
   "execution_count": 16,
   "source": [
    "item_type = create_item_type(\r\n",
    "    myid = 14,\r\n",
    "    name = '小米巨能写',\r\n",
    "    prob = 0.07,\r\n",
    "    info = '据说可以写很久的一支笔，能提高一定工作效率',\r\n",
    "    type = 'tool',\r\n",
    "    work_efficiency = 5,\r\n",
    "    lucky_value = 0,\r\n",
    "    grade = 2,\r\n",
    ")\r\n",
    "\r\n",
    "collection.insert_one(item_type)\r\n",
    "\r\n",
    "item_type"
   ],
   "outputs": [
    {
     "output_type": "execute_result",
     "data": {
      "text/plain": [
       "{'myid': 14,\n",
       " 'name': '小米巨能写',\n",
       " 'prob': 0.07,\n",
       " 'info': '据说可以写很久的一支笔，能提高一定工作效率',\n",
       " 'type': 'tool',\n",
       " 'work_efficiency': 5,\n",
       " 'lucky_value': 0,\n",
       " 'grade': 2,\n",
       " '_id': ObjectId('615aa2f1e3aee8e3aca8b0cb')}"
      ]
     },
     "metadata": {},
     "execution_count": 16
    }
   ],
   "metadata": {}
  },
  {
   "cell_type": "code",
   "execution_count": 17,
   "source": [
    "item_type = create_item_type(\r\n",
    "    myid = 15,\r\n",
    "    name = '洛阳铲',\r\n",
    "    prob = 0.02,\r\n",
    "    info = '考古学工具，提高了我们“考古学者”的工作效率',\r\n",
    "    type = 'tool',\r\n",
    "    work_efficiency = 11,\r\n",
    "    lucky_value = 0,\r\n",
    "    grade = 3,\r\n",
    ")\r\n",
    "\r\n",
    "collection.insert_one(item_type)\r\n",
    "\r\n",
    "item_type"
   ],
   "outputs": [
    {
     "output_type": "execute_result",
     "data": {
      "text/plain": [
       "{'myid': 15,\n",
       " 'name': '洛阳铲',\n",
       " 'prob': 0.02,\n",
       " 'info': '考古学工具，提高了我们“考古学者”的工作效率',\n",
       " 'type': 'tool',\n",
       " 'work_efficiency': 11,\n",
       " 'lucky_value': 0,\n",
       " 'grade': 3,\n",
       " '_id': ObjectId('615aa2f1e3aee8e3aca8b0cc')}"
      ]
     },
     "metadata": {},
     "execution_count": 17
    }
   ],
   "metadata": {}
  },
  {
   "cell_type": "code",
   "execution_count": 18,
   "source": [
    "item_type = create_item_type(\r\n",
    "    myid = 16,\r\n",
    "    name = '佣兵卡',\r\n",
    "    prob = 0.005,\r\n",
    "    info = '搓搓小卡即可召唤出5个佣兵帮你一起工作，简直是摸鱼神器！',\r\n",
    "    type = 'tool',\r\n",
    "    work_efficiency = 30,\r\n",
    "    lucky_value = 0,\r\n",
    "    grade = 4,\r\n",
    ")\r\n",
    "\r\n",
    "collection.insert_one(item_type)\r\n",
    "\r\n",
    "item_type"
   ],
   "outputs": [
    {
     "output_type": "execute_result",
     "data": {
      "text/plain": [
       "{'myid': 16,\n",
       " 'name': '佣兵卡',\n",
       " 'prob': 0.005,\n",
       " 'info': '搓搓小卡即可召唤出5个佣兵帮你一起工作，简直是摸鱼神器！',\n",
       " 'type': 'tool',\n",
       " 'work_efficiency': 30,\n",
       " 'lucky_value': 0,\n",
       " 'grade': 4,\n",
       " '_id': ObjectId('615aa2f1e3aee8e3aca8b0cd')}"
      ]
     },
     "metadata": {},
     "execution_count": 18
    }
   ],
   "metadata": {}
  },
  {
   "cell_type": "code",
   "execution_count": 19,
   "source": [
    "item_type = create_item_type(\r\n",
    "    myid = 17,\r\n",
    "    name = '蓝翔挖掘机',\r\n",
    "    prob = 0.0001,\r\n",
    "    info = '工作领域的战斗机，学了它，随随便便月拆千万',\r\n",
    "    type = 'tool',\r\n",
    "    work_efficiency = 99,\r\n",
    "    lucky_value = 0,\r\n",
    "    grade = 5,\r\n",
    ")\r\n",
    "\r\n",
    "collection.insert_one(item_type)\r\n",
    "\r\n",
    "item_type"
   ],
   "outputs": [
    {
     "output_type": "execute_result",
     "data": {
      "text/plain": [
       "{'myid': 17,\n",
       " 'name': '蓝翔挖掘机',\n",
       " 'prob': 0.0001,\n",
       " 'info': '工作领域的战斗机，学了它，随随便便月拆千万',\n",
       " 'type': 'tool',\n",
       " 'work_efficiency': 99,\n",
       " 'lucky_value': 0,\n",
       " 'grade': 5,\n",
       " '_id': ObjectId('615aa2f1e3aee8e3aca8b0ce')}"
      ]
     },
     "metadata": {},
     "execution_count": 19
    }
   ],
   "metadata": {}
  }
 ],
 "metadata": {
  "orig_nbformat": 4,
  "language_info": {
   "name": "python",
   "version": "3.7.9",
   "mimetype": "text/x-python",
   "codemirror_mode": {
    "name": "ipython",
    "version": 3
   },
   "pygments_lexer": "ipython3",
   "nbconvert_exporter": "python",
   "file_extension": ".py"
  },
  "kernelspec": {
   "name": "python3",
   "display_name": "Python 3.7.9 64-bit"
  },
  "interpreter": {
   "hash": "44b587bdbd3bfaa54601477ce1326b7d527a431c153e76c0e9ba3ad4e8e32186"
  }
 },
 "nbformat": 4,
 "nbformat_minor": 2
}