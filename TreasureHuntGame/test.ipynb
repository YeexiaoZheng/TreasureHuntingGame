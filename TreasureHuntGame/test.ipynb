{
 "cells": [
  {
   "cell_type": "code",
   "execution_count": 23,
   "source": [
    "import pymongo\r\n",
    "from bson.objectid import ObjectId\r\n",
    "\r\n",
    "myclient = pymongo.MongoClient(host='localhost', port=27017)\r\n",
    "\r\n",
    "db = myclient['treasurehuntgame']\r\n",
    "collection = db['item_type']\r\n",
    "\r\n",
    "items = list(db.item.aggregate([\r\n",
    "    {'$match':{'buid':ObjectId('615a947650c0ef3be60dcfbd')}},\r\n",
    "    {'$project':{'sum':{\"$add\": [\"$work_efficiency\", \"$lucky_value\"] }}},\r\n",
    "    {'$sort':{'sum':1}},\r\n",
    "    {'$limit':1},\r\n",
    "]))\r\n",
    "\r\n",
    "# items = db.item.aggregate([\r\n",
    "#     {'$match':{'buid':{'$eq':ObjectId('615a947650c0ef3be60dcfbd')}}},\r\n",
    "#     {'$project':{'_id':1}}\r\n",
    "# ])\r\n",
    "\r\n",
    "# items = db.item.find({'buid':ObjectId('615a947650c0ef3be60dcfbd')})\r\n",
    "\r\n",
    "print(items)"
   ],
   "outputs": [
    {
     "output_type": "stream",
     "name": "stdout",
     "text": [
      "[{'_id': ObjectId('615b1480b2c78615be1ae0c7'), 'sum': 1}]\n"
     ]
    }
   ],
   "metadata": {}
  }
 ],
 "metadata": {
  "orig_nbformat": 4,
  "language_info": {
   "name": "python",
   "version": "3.7.9"
  },
  "kernelspec": {
   "name": "python3",
   "display_name": "Python 3.7.9 64-bit"
  },
  "interpreter": {
   "hash": "44b587bdbd3bfaa54601477ce1326b7d527a431c153e76c0e9ba3ad4e8e32186"
  }
 },
 "nbformat": 4,
 "nbformat_minor": 2
}